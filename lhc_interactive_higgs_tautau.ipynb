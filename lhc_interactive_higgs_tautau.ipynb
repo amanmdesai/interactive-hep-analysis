{
 "cells": [
  {
   "cell_type": "code",
   "execution_count": null,
   "id": "62d6e5b5",
   "metadata": {},
   "outputs": [],
   "source": [
    "import numpy as np\n",
    "import pandas as pd\n",
    "import math\n",
    "import ipywidgets as widgets\n",
    "import matplotlib.pyplot as plt\n",
    "from IPython.display import display\n",
    "from ipywidgets import (\n",
    "    HBox,\n",
    "    VBox,\n",
    "    Output,\n",
    "    FloatSlider,\n",
    "    Button,\n",
    "    ToggleButton,\n",
    "    Layout,\n",
    "    Dropdown,\n",
    ")\n"
   ]
  },
  {
   "cell_type": "code",
   "execution_count": null,
   "id": "48ec2e8d",
   "metadata": {},
   "outputs": [],
   "source": [
    "df = pd.read_csv('test-dataset/higgs_boson.csv').drop(['EventId','Weight'],axis=1)\n",
    "columns=list(df.columns)\n",
    "df"
   ]
  },
  {
   "cell_type": "code",
   "execution_count": null,
   "id": "228d4aac",
   "metadata": {},
   "outputs": [],
   "source": [
    "dfs = df[df['Label']=='s']\n",
    "dfb = df[df['Label']=='b']\n",
    "i=0\n",
    "#fig, ax = plt.subplots(10,10)\n",
    "fig  = plt.figure(figsize=(25,25))\n",
    "for var in df.columns:\n",
    "    plt.subplot(8,8,i+1)\n",
    "    plt.hist(dfb[var],label='background',alpha=0.4,color='red')\n",
    "    plt.hist(dfs[var],label='signal',alpha=0.4,color='blue')\n",
    "    i = i +  1\n",
    "    plt.xlabel(var)\n",
    "    plt.legend()"
   ]
  },
  {
   "cell_type": "code",
   "execution_count": null,
   "id": "bbede405",
   "metadata": {},
   "outputs": [],
   "source": [
    "DER_mass_vis = FloatSlider(min=df[columns[0]].min(),max=df[columns[0]].max(),step=1, description=columns[0], continuous_update=True,layout=widgets.Layout(min_width=\"70%\"),)\n",
    "DER_mass_jet_jet = FloatSlider(min=df[columns[1]].min(),max=df[columns[1]].max(),step=1, description=columns[1], continuous_update=True,layout=widgets.Layout(min_width=\"70%\"),)\n",
    "lin_log = widgets.Checkbox(value=False, description=\"Log\")"
   ]
  },
  {
   "cell_type": "code",
   "execution_count": null,
   "id": "43a273c9",
   "metadata": {},
   "outputs": [],
   "source": [
    "def significance(sig,bkg):\n",
    "    if bkg == 0:\n",
    "        print('background too low')\n",
    "        return 0\n",
    "    Z = sig/math.sqrt(sig+bkg)\n",
    "    return Z"
   ]
  },
  {
   "cell_type": "code",
   "execution_count": null,
   "id": "152e089a",
   "metadata": {},
   "outputs": [],
   "source": [
    "def _cuts(lin_log,DER_mass_vis,DER_mass_jet_jet):\n",
    "\n",
    "    plt.figure(figsize=(7,7))\n",
    "\n",
    "    df2 = df[df['DER_mass_vis'] > DER_mass_vis]\n",
    "    df2 = df2[df2['DER_mass_jet_jet'] > DER_mass_jet_jet]\n",
    "        \n",
    "    df_s = df2[df2['Label'] == 's']    \n",
    "    df_b = df2[df2['Label'] == 'b']\n",
    "    n_sig = df_s.value_counts().sum()\n",
    "    n_bkg = df_b.value_counts().sum()\n",
    "\n",
    "    \n",
    "    print('s/sqrt(s+b) ', significance(n_sig,n_bkg))\n",
    "\n",
    "    plt.hist(df_s['DER_mass_jet_jet'], label='signal', bins=50, color=['blue'],alpha=0.6)\n",
    "    plt.hist(df_b['DER_mass_jet_jet'], label='background', bins=50, color=['red'],alpha=0.6)\n",
    "    plt.legend()\n",
    "\n",
    "    if lin_log and df2.shape[0]!=0:\n",
    "        print(\"h\")\n",
    "        plt.yscale(\"log\")\n",
    "    else:\n",
    "        plt.yscale(\"linear\")\n",
    "\n",
    "out = widgets.interactive_output(_cuts, {\n",
    "                    'DER_mass_vis': DER_mass_vis,\n",
    "                    'DER_mass_jet_jet': DER_mass_jet_jet,\n",
    "                    'lin_log': lin_log,\n",
    "                                        })\n",
    "\n",
    "#{'lep1_pt': lep1_pt, 'lep2_pt': lep2_pt, 'Qnet': Qnet, 'mass_low': mass_low, 'mass_high':mass_high, 'lin_log':lin_log})\n",
    "ui = VBox(\n",
    "    [\n",
    "        VBox([DER_mass_vis, DER_mass_jet_jet, lin_log]),\n",
    "    ]\n",
    ")\n",
    "\n",
    "HBox([out, ui])\n"
   ]
  },
  {
   "cell_type": "code",
   "execution_count": null,
   "id": "7ba22e02",
   "metadata": {},
   "outputs": [],
   "source": []
  }
 ],
 "metadata": {
  "kernelspec": {
   "display_name": "Python 3 (ipykernel)",
   "language": "python",
   "name": "python3"
  },
  "language_info": {
   "codemirror_mode": {
    "name": "ipython",
    "version": 3
   },
   "file_extension": ".py",
   "mimetype": "text/x-python",
   "name": "python",
   "nbconvert_exporter": "python",
   "pygments_lexer": "ipython3",
   "version": "3.10.6"
  }
 },
 "nbformat": 4,
 "nbformat_minor": 5
}
